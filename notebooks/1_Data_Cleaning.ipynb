{
 "cells": [
  {
   "cell_type": "markdown",
   "metadata": {},
   "source": [
    "# Data Cleaning\n",
    "\n",
    "This step ensures that your data is consistent, free of errors, and ready for **transformation** and **analysis**."
   ]
  },
  {
   "cell_type": "code",
   "execution_count": 1,
   "metadata": {},
   "outputs": [],
   "source": [
    "import pandas as pd \n",
    "import logging\n",
    "\n",
    "import os, sys\n",
    "sys.path.append(os.path.abspath(os.path.join('..', 'data')))\n",
    "sys.path.append(os.path.abspath(os.path.join('..', 'scripts')))"
   ]
  },
  {
   "cell_type": "code",
   "execution_count": 2,
   "metadata": {},
   "outputs": [],
   "source": [
    "# Set up logging\n",
    "from logger_config import setup_logging\n",
    "\n",
    "# Set up logging\n",
    "logger = setup_logging(log_file='../logs/data_preparation.log')"
   ]
  },
  {
   "cell_type": "code",
   "execution_count": 3,
   "metadata": {},
   "outputs": [],
   "source": [
    "# Import the data\n",
    "df = pd.read_csv('../data/raw/scraped_data.csv')"
   ]
  },
  {
   "cell_type": "code",
   "execution_count": 4,
   "metadata": {},
   "outputs": [
    {
     "data": {
      "text/plain": [
       "(100, 6)"
      ]
     },
     "execution_count": 4,
     "metadata": {},
     "output_type": "execute_result"
    }
   ],
   "source": [
    "df.shape"
   ]
  },
  {
   "cell_type": "code",
   "execution_count": 5,
   "metadata": {},
   "outputs": [
    {
     "data": {
      "text/html": [
       "<div>\n",
       "<style scoped>\n",
       "    .dataframe tbody tr th:only-of-type {\n",
       "        vertical-align: middle;\n",
       "    }\n",
       "\n",
       "    .dataframe tbody tr th {\n",
       "        vertical-align: top;\n",
       "    }\n",
       "\n",
       "    .dataframe thead th {\n",
       "        text-align: right;\n",
       "    }\n",
       "</style>\n",
       "<table border=\"1\" class=\"dataframe\">\n",
       "  <thead>\n",
       "    <tr style=\"text-align: right;\">\n",
       "      <th></th>\n",
       "      <th>Channel Title</th>\n",
       "      <th>Channel Username</th>\n",
       "      <th>ID</th>\n",
       "      <th>Message</th>\n",
       "      <th>Date</th>\n",
       "      <th>Media Path</th>\n",
       "    </tr>\n",
       "  </thead>\n",
       "  <tbody>\n",
       "    <tr>\n",
       "      <th>0</th>\n",
       "      <td>የጤና ወግ - የጤና መረጃ</td>\n",
       "      <td>@yetenaweg</td>\n",
       "      <td>1181</td>\n",
       "      <td>NaN</td>\n",
       "      <td>2024-10-06 16:26:40+00:00</td>\n",
       "      <td>NaN</td>\n",
       "    </tr>\n",
       "    <tr>\n",
       "      <th>1</th>\n",
       "      <td>የጤና ወግ - የጤና መረጃ</td>\n",
       "      <td>@yetenaweg</td>\n",
       "      <td>1180</td>\n",
       "      <td>ተጀምሯል !!</td>\n",
       "      <td>2024-10-06 15:03:40+00:00</td>\n",
       "      <td>NaN</td>\n",
       "    </tr>\n",
       "    <tr>\n",
       "      <th>2</th>\n",
       "      <td>የጤና ወግ - የጤና መረጃ</td>\n",
       "      <td>@yetenaweg</td>\n",
       "      <td>1179</td>\n",
       "      <td>NaN</td>\n",
       "      <td>2024-10-06 14:58:28+00:00</td>\n",
       "      <td>NaN</td>\n",
       "    </tr>\n",
       "    <tr>\n",
       "      <th>3</th>\n",
       "      <td>የጤና ወግ - የጤና መረጃ</td>\n",
       "      <td>@yetenaweg</td>\n",
       "      <td>1178</td>\n",
       "      <td>NaN</td>\n",
       "      <td>2024-10-04 13:14:17+00:00</td>\n",
       "      <td>media/@yetenaweg_1178.jpg</td>\n",
       "    </tr>\n",
       "    <tr>\n",
       "      <th>4</th>\n",
       "      <td>የጤና ወግ - የጤና መረጃ</td>\n",
       "      <td>@yetenaweg</td>\n",
       "      <td>1177</td>\n",
       "      <td>NaN</td>\n",
       "      <td>2024-10-04 13:14:17+00:00</td>\n",
       "      <td>media/@yetenaweg_1177.jpg</td>\n",
       "    </tr>\n",
       "    <tr>\n",
       "      <th>5</th>\n",
       "      <td>የጤና ወግ - የጤና መረጃ</td>\n",
       "      <td>@yetenaweg</td>\n",
       "      <td>1176</td>\n",
       "      <td>NaN</td>\n",
       "      <td>2024-10-04 13:14:16+00:00</td>\n",
       "      <td>media/@yetenaweg_1176.jpg</td>\n",
       "    </tr>\n",
       "    <tr>\n",
       "      <th>6</th>\n",
       "      <td>የጤና ወግ - የጤና መረጃ</td>\n",
       "      <td>@yetenaweg</td>\n",
       "      <td>1175</td>\n",
       "      <td>🤱**በድህረ ወሊድ ጊዜ ምን ማወቅ አለብዎት??**\\n\\n🌸ቀደምት የድህረ ...</td>\n",
       "      <td>2024-10-04 13:14:16+00:00</td>\n",
       "      <td>media/@yetenaweg_1175.jpg</td>\n",
       "    </tr>\n",
       "    <tr>\n",
       "      <th>7</th>\n",
       "      <td>የጤና ወግ - የጤና መረጃ</td>\n",
       "      <td>@yetenaweg</td>\n",
       "      <td>1172</td>\n",
       "      <td>NaN</td>\n",
       "      <td>2024-10-03 05:09:38+00:00</td>\n",
       "      <td>media/@yetenaweg_1172.jpg</td>\n",
       "    </tr>\n",
       "    <tr>\n",
       "      <th>8</th>\n",
       "      <td>የጤና ወግ - የጤና መረጃ</td>\n",
       "      <td>@yetenaweg</td>\n",
       "      <td>1171</td>\n",
       "      <td>💡በዚህ እሁድ በቴሌግራም ቀጥታ ስርጭት **የእንቅልፍ ችግሮች** የሚዳስስ...</td>\n",
       "      <td>2024-10-03 05:09:38+00:00</td>\n",
       "      <td>media/@yetenaweg_1171.jpg</td>\n",
       "    </tr>\n",
       "    <tr>\n",
       "      <th>9</th>\n",
       "      <td>የጤና ወግ - የጤና መረጃ</td>\n",
       "      <td>@yetenaweg</td>\n",
       "      <td>1170</td>\n",
       "      <td>NaN</td>\n",
       "      <td>2024-10-02 10:33:05+00:00</td>\n",
       "      <td>NaN</td>\n",
       "    </tr>\n",
       "  </tbody>\n",
       "</table>\n",
       "</div>"
      ],
      "text/plain": [
       "      Channel Title Channel Username    ID  \\\n",
       "0  የጤና ወግ - የጤና መረጃ       @yetenaweg  1181   \n",
       "1  የጤና ወግ - የጤና መረጃ       @yetenaweg  1180   \n",
       "2  የጤና ወግ - የጤና መረጃ       @yetenaweg  1179   \n",
       "3  የጤና ወግ - የጤና መረጃ       @yetenaweg  1178   \n",
       "4  የጤና ወግ - የጤና መረጃ       @yetenaweg  1177   \n",
       "5  የጤና ወግ - የጤና መረጃ       @yetenaweg  1176   \n",
       "6  የጤና ወግ - የጤና መረጃ       @yetenaweg  1175   \n",
       "7  የጤና ወግ - የጤና መረጃ       @yetenaweg  1172   \n",
       "8  የጤና ወግ - የጤና መረጃ       @yetenaweg  1171   \n",
       "9  የጤና ወግ - የጤና መረጃ       @yetenaweg  1170   \n",
       "\n",
       "                                             Message  \\\n",
       "0                                                NaN   \n",
       "1                                           ተጀምሯል !!   \n",
       "2                                                NaN   \n",
       "3                                                NaN   \n",
       "4                                                NaN   \n",
       "5                                                NaN   \n",
       "6  🤱**በድህረ ወሊድ ጊዜ ምን ማወቅ አለብዎት??**\\n\\n🌸ቀደምት የድህረ ...   \n",
       "7                                                NaN   \n",
       "8  💡በዚህ እሁድ በቴሌግራም ቀጥታ ስርጭት **የእንቅልፍ ችግሮች** የሚዳስስ...   \n",
       "9                                                NaN   \n",
       "\n",
       "                        Date                 Media Path  \n",
       "0  2024-10-06 16:26:40+00:00                        NaN  \n",
       "1  2024-10-06 15:03:40+00:00                        NaN  \n",
       "2  2024-10-06 14:58:28+00:00                        NaN  \n",
       "3  2024-10-04 13:14:17+00:00  media/@yetenaweg_1178.jpg  \n",
       "4  2024-10-04 13:14:17+00:00  media/@yetenaweg_1177.jpg  \n",
       "5  2024-10-04 13:14:16+00:00  media/@yetenaweg_1176.jpg  \n",
       "6  2024-10-04 13:14:16+00:00  media/@yetenaweg_1175.jpg  \n",
       "7  2024-10-03 05:09:38+00:00  media/@yetenaweg_1172.jpg  \n",
       "8  2024-10-03 05:09:38+00:00  media/@yetenaweg_1171.jpg  \n",
       "9  2024-10-02 10:33:05+00:00                        NaN  "
      ]
     },
     "execution_count": 5,
     "metadata": {},
     "output_type": "execute_result"
    }
   ],
   "source": [
    "df.head(10)"
   ]
  },
  {
   "cell_type": "code",
   "execution_count": 6,
   "metadata": {},
   "outputs": [
    {
     "data": {
      "text/html": [
       "<div>\n",
       "<style scoped>\n",
       "    .dataframe tbody tr th:only-of-type {\n",
       "        vertical-align: middle;\n",
       "    }\n",
       "\n",
       "    .dataframe tbody tr th {\n",
       "        vertical-align: top;\n",
       "    }\n",
       "\n",
       "    .dataframe thead th {\n",
       "        text-align: right;\n",
       "    }\n",
       "</style>\n",
       "<table border=\"1\" class=\"dataframe\">\n",
       "  <thead>\n",
       "    <tr style=\"text-align: right;\">\n",
       "      <th></th>\n",
       "      <th>Channel Title</th>\n",
       "      <th>Channel Username</th>\n",
       "      <th>ID</th>\n",
       "      <th>Message</th>\n",
       "      <th>Date</th>\n",
       "      <th>Media Path</th>\n",
       "    </tr>\n",
       "  </thead>\n",
       "  <tbody>\n",
       "    <tr>\n",
       "      <th>90</th>\n",
       "      <td>ETHIO-AMERICAN MEDICAL TRAININGS( CPD ) &amp; HEAL...</td>\n",
       "      <td>@EAHCI</td>\n",
       "      <td>2389</td>\n",
       "      <td>Baga Ayyaana Irreechaa nagaan geessan!\\nመልካም የ...</td>\n",
       "      <td>2024-10-05 11:41:20+00:00</td>\n",
       "      <td>media/@EAHCI_2389.jpg</td>\n",
       "    </tr>\n",
       "    <tr>\n",
       "      <th>91</th>\n",
       "      <td>ETHIO-AMERICAN MEDICAL TRAININGS( CPD ) &amp; HEAL...</td>\n",
       "      <td>@EAHCI</td>\n",
       "      <td>2388</td>\n",
       "      <td>Notice💥\\n\\n We would like to inform you that  ...</td>\n",
       "      <td>2024-10-05 09:52:07+00:00</td>\n",
       "      <td>NaN</td>\n",
       "    </tr>\n",
       "    <tr>\n",
       "      <th>92</th>\n",
       "      <td>ETHIO-AMERICAN MEDICAL TRAININGS( CPD ) &amp; HEAL...</td>\n",
       "      <td>@EAHCI</td>\n",
       "      <td>2387</td>\n",
       "      <td>#Dental_Extraction_&amp;_Care_Training💥\\n         ...</td>\n",
       "      <td>2024-10-04 13:29:53+00:00</td>\n",
       "      <td>media/@EAHCI_2387.jpg</td>\n",
       "    </tr>\n",
       "    <tr>\n",
       "      <th>93</th>\n",
       "      <td>ETHIO-AMERICAN MEDICAL TRAININGS( CPD ) &amp; HEAL...</td>\n",
       "      <td>@EAHCI</td>\n",
       "      <td>2386</td>\n",
       "      <td>#💥እሁድ_Addis_Ababa_Ultrasound_Training)#CPD_ስልጠ...</td>\n",
       "      <td>2024-10-04 10:17:03+00:00</td>\n",
       "      <td>media/@EAHCI_2386.jpg</td>\n",
       "    </tr>\n",
       "    <tr>\n",
       "      <th>94</th>\n",
       "      <td>ETHIO-AMERICAN MEDICAL TRAININGS( CPD ) &amp; HEAL...</td>\n",
       "      <td>@EAHCI</td>\n",
       "      <td>2385</td>\n",
       "      <td>💥ነገ ይጀምራል CPD_training_ለሁሉም_ጤና_ባለሞያዎች!!!\\n✔️#T...</td>\n",
       "      <td>2024-10-04 09:57:52+00:00</td>\n",
       "      <td>media/@EAHCI_2385.jpg</td>\n",
       "    </tr>\n",
       "    <tr>\n",
       "      <th>95</th>\n",
       "      <td>ETHIO-AMERICAN MEDICAL TRAININGS( CPD ) &amp; HEAL...</td>\n",
       "      <td>@EAHCI</td>\n",
       "      <td>2384</td>\n",
       "      <td>💥**CPD_training_ለሁሉም_ጤና_ባለሞያዎች!!!\\n✔️****#Titl...</td>\n",
       "      <td>2024-10-03 06:46:52+00:00</td>\n",
       "      <td>media/@EAHCI_2384.jpg</td>\n",
       "    </tr>\n",
       "    <tr>\n",
       "      <th>96</th>\n",
       "      <td>ETHIO-AMERICAN MEDICAL TRAININGS( CPD ) &amp; HEAL...</td>\n",
       "      <td>@EAHCI</td>\n",
       "      <td>2383</td>\n",
       "      <td>NaN</td>\n",
       "      <td>2024-10-02 12:03:42+00:00</td>\n",
       "      <td>NaN</td>\n",
       "    </tr>\n",
       "    <tr>\n",
       "      <th>97</th>\n",
       "      <td>ETHIO-AMERICAN MEDICAL TRAININGS( CPD ) &amp; HEAL...</td>\n",
       "      <td>@EAHCI</td>\n",
       "      <td>2382</td>\n",
       "      <td>#Monitoring_And_Evaluation_Training \\n💥 Hawass...</td>\n",
       "      <td>2024-10-02 09:13:24+00:00</td>\n",
       "      <td>media/@EAHCI_2382.jpg</td>\n",
       "    </tr>\n",
       "    <tr>\n",
       "      <th>98</th>\n",
       "      <td>ETHIO-AMERICAN MEDICAL TRAININGS( CPD ) &amp; HEAL...</td>\n",
       "      <td>@EAHCI</td>\n",
       "      <td>2379</td>\n",
       "      <td>#💥እሁድ_Addis_Ababa_Ultrasound_Training)#CPD_ስልጠ...</td>\n",
       "      <td>2024-10-01 09:03:45+00:00</td>\n",
       "      <td>media/@EAHCI_2379.jpg</td>\n",
       "    </tr>\n",
       "    <tr>\n",
       "      <th>99</th>\n",
       "      <td>ETHIO-AMERICAN MEDICAL TRAININGS( CPD ) &amp; HEAL...</td>\n",
       "      <td>@EAHCI</td>\n",
       "      <td>2378</td>\n",
       "      <td>💥 CPD_training_ለሁሉም_ጤና_ባለሞያዎች!!!\\n✔️#Title_Ant...</td>\n",
       "      <td>2024-09-30 07:47:20+00:00</td>\n",
       "      <td>media/@EAHCI_2378.jpg</td>\n",
       "    </tr>\n",
       "  </tbody>\n",
       "</table>\n",
       "</div>"
      ],
      "text/plain": [
       "                                        Channel Title Channel Username    ID  \\\n",
       "90  ETHIO-AMERICAN MEDICAL TRAININGS( CPD ) & HEAL...           @EAHCI  2389   \n",
       "91  ETHIO-AMERICAN MEDICAL TRAININGS( CPD ) & HEAL...           @EAHCI  2388   \n",
       "92  ETHIO-AMERICAN MEDICAL TRAININGS( CPD ) & HEAL...           @EAHCI  2387   \n",
       "93  ETHIO-AMERICAN MEDICAL TRAININGS( CPD ) & HEAL...           @EAHCI  2386   \n",
       "94  ETHIO-AMERICAN MEDICAL TRAININGS( CPD ) & HEAL...           @EAHCI  2385   \n",
       "95  ETHIO-AMERICAN MEDICAL TRAININGS( CPD ) & HEAL...           @EAHCI  2384   \n",
       "96  ETHIO-AMERICAN MEDICAL TRAININGS( CPD ) & HEAL...           @EAHCI  2383   \n",
       "97  ETHIO-AMERICAN MEDICAL TRAININGS( CPD ) & HEAL...           @EAHCI  2382   \n",
       "98  ETHIO-AMERICAN MEDICAL TRAININGS( CPD ) & HEAL...           @EAHCI  2379   \n",
       "99  ETHIO-AMERICAN MEDICAL TRAININGS( CPD ) & HEAL...           @EAHCI  2378   \n",
       "\n",
       "                                              Message  \\\n",
       "90  Baga Ayyaana Irreechaa nagaan geessan!\\nመልካም የ...   \n",
       "91  Notice💥\\n\\n We would like to inform you that  ...   \n",
       "92  #Dental_Extraction_&_Care_Training💥\\n         ...   \n",
       "93  #💥እሁድ_Addis_Ababa_Ultrasound_Training)#CPD_ስልጠ...   \n",
       "94  💥ነገ ይጀምራል CPD_training_ለሁሉም_ጤና_ባለሞያዎች!!!\\n✔️#T...   \n",
       "95  💥**CPD_training_ለሁሉም_ጤና_ባለሞያዎች!!!\\n✔️****#Titl...   \n",
       "96                                                NaN   \n",
       "97  #Monitoring_And_Evaluation_Training \\n💥 Hawass...   \n",
       "98  #💥እሁድ_Addis_Ababa_Ultrasound_Training)#CPD_ስልጠ...   \n",
       "99  💥 CPD_training_ለሁሉም_ጤና_ባለሞያዎች!!!\\n✔️#Title_Ant...   \n",
       "\n",
       "                         Date             Media Path  \n",
       "90  2024-10-05 11:41:20+00:00  media/@EAHCI_2389.jpg  \n",
       "91  2024-10-05 09:52:07+00:00                    NaN  \n",
       "92  2024-10-04 13:29:53+00:00  media/@EAHCI_2387.jpg  \n",
       "93  2024-10-04 10:17:03+00:00  media/@EAHCI_2386.jpg  \n",
       "94  2024-10-04 09:57:52+00:00  media/@EAHCI_2385.jpg  \n",
       "95  2024-10-03 06:46:52+00:00  media/@EAHCI_2384.jpg  \n",
       "96  2024-10-02 12:03:42+00:00                    NaN  \n",
       "97  2024-10-02 09:13:24+00:00  media/@EAHCI_2382.jpg  \n",
       "98  2024-10-01 09:03:45+00:00  media/@EAHCI_2379.jpg  \n",
       "99  2024-09-30 07:47:20+00:00  media/@EAHCI_2378.jpg  "
      ]
     },
     "execution_count": 6,
     "metadata": {},
     "output_type": "execute_result"
    }
   ],
   "source": [
    "df.tail(10)"
   ]
  },
  {
   "cell_type": "code",
   "execution_count": 7,
   "metadata": {},
   "outputs": [
    {
     "data": {
      "text/plain": [
       "Channel Title       object\n",
       "Channel Username    object\n",
       "ID                   int64\n",
       "Message             object\n",
       "Date                object\n",
       "Media Path          object\n",
       "dtype: object"
      ]
     },
     "execution_count": 7,
     "metadata": {},
     "output_type": "execute_result"
    }
   ],
   "source": [
    "# Check the data types of the dataframe\n",
    "df.dtypes"
   ]
  },
  {
   "cell_type": "code",
   "execution_count": 8,
   "metadata": {},
   "outputs": [],
   "source": [
    "# Change the the datatype of date to date format\n",
    "df[\"Date\"] = pd.to_datetime(df[\"Date\"], format='%Y-%m-%d %H:%M:%S%z')\n"
   ]
  },
  {
   "cell_type": "code",
   "execution_count": 9,
   "metadata": {},
   "outputs": [
    {
     "data": {
      "text/plain": [
       "Channel Title                    object\n",
       "Channel Username                 object\n",
       "ID                                int64\n",
       "Message                          object\n",
       "Date                datetime64[ns, UTC]\n",
       "Media Path                       object\n",
       "dtype: object"
      ]
     },
     "execution_count": 9,
     "metadata": {},
     "output_type": "execute_result"
    }
   ],
   "source": [
    "# Check it again the data types of the dataframe\n",
    "df.dtypes"
   ]
  },
  {
   "cell_type": "code",
   "execution_count": 10,
   "metadata": {},
   "outputs": [],
   "source": [
    "# Check if there is any duplicated data\n",
    "duplicates = df.duplicated().sum()\n",
    "duplicates\n",
    "logger.info(f'There are {duplicates} duplicated rows in the data')"
   ]
  },
  {
   "cell_type": "code",
   "execution_count": 11,
   "metadata": {},
   "outputs": [],
   "source": [
    "# If any duplicated data, drop them\n",
    "if duplicates > 0:\n",
    "    df = df.drop_duplicates()\n",
    "    logging.info('Duplicated rows have been dropped')"
   ]
  },
  {
   "cell_type": "code",
   "execution_count": 12,
   "metadata": {},
   "outputs": [
    {
     "data": {
      "text/plain": [
       "Channel Title        0\n",
       "Channel Username     0\n",
       "ID                   0\n",
       "Message             24\n",
       "Date                 0\n",
       "Media Path           9\n",
       "dtype: int64"
      ]
     },
     "execution_count": 12,
     "metadata": {},
     "output_type": "execute_result"
    }
   ],
   "source": [
    "df = df.drop(index=10)\n",
    "# Check for missing values\n",
    "df.isnull().sum()"
   ]
  },
  {
   "cell_type": "code",
   "execution_count": 13,
   "metadata": {},
   "outputs": [],
   "source": [
    "# Drow raws if both message and medea_path columns are missing\n",
    "df_cleaned = df.dropna(subset=['Message', 'Media Path'], how='all')\n",
    "\n",
    "# Log number of rows dropped where both are NaN\n",
    "rows_dropped = df.shape[0] - df_cleaned.shape[0]\n",
    "logger.info(f'{rows_dropped} rows dropped where both Message and Media Path were NaN')\n"
   ]
  },
  {
   "cell_type": "code",
   "execution_count": 14,
   "metadata": {},
   "outputs": [
    {
     "data": {
      "text/plain": [
       "Channel Title        0\n",
       "Channel Username     0\n",
       "ID                   0\n",
       "Message             18\n",
       "Date                 0\n",
       "Media Path           3\n",
       "dtype: int64"
      ]
     },
     "execution_count": 14,
     "metadata": {},
     "output_type": "execute_result"
    }
   ],
   "source": [
    "df_cleaned.isnull().sum()\n"
   ]
  },
  {
   "cell_type": "code",
   "execution_count": 15,
   "metadata": {},
   "outputs": [],
   "source": [
    "# Log the number of missing messages and media paths handled\n",
    "missing_messages = df_cleaned['Message'].isna().sum()\n",
    "missing_media = df_cleaned['Media Path'].isna().sum()\n",
    "\n",
    "# Fill NaN values in Message with a placeholder using .loc\n",
    "df_cleaned.loc[:, 'Message'] = df_cleaned['Message'].fillna('No Message')\n",
    "\n",
    "# Fill NaN values in Media Path with a placeholder using .loc\n",
    "df_cleaned.loc[:, 'Media Path'] = df_cleaned['Media Path'].fillna('No Media')\n",
    "\n",
    "logger.info(f'{missing_messages} missing messages filled')\n",
    "logger.info(f'{missing_media} missing media paths filled')"
   ]
  },
  {
   "cell_type": "code",
   "execution_count": 16,
   "metadata": {},
   "outputs": [
    {
     "data": {
      "text/plain": [
       "Channel Title       0\n",
       "Channel Username    0\n",
       "ID                  0\n",
       "Message             0\n",
       "Date                0\n",
       "Media Path          0\n",
       "dtype: int64"
      ]
     },
     "execution_count": 16,
     "metadata": {},
     "output_type": "execute_result"
    }
   ],
   "source": [
    "# Check for missing values again\n",
    "df_cleaned.isnull().sum()"
   ]
  },
  {
   "cell_type": "code",
   "execution_count": 18,
   "metadata": {},
   "outputs": [
    {
     "name": "stdout",
     "output_type": "stream",
     "text": [
      "Database engine created successfully!\n",
      "Data exported successfully to table 'cleaned_scraped_data'!\n"
     ]
    }
   ],
   "source": [
    "# Export the cleaned data\n",
    "from data_exporter import export_data_to_postgres\n",
    "\n",
    "# create a connection to the database\n",
    "from db_connection import create_db_engine\n",
    "engine = create_db_engine()\n",
    "logger.info(\"Database engine created successfully!\")\n",
    "\n",
    "# Define the table name\n",
    "table_name = 'cleaned_scraped_data'\n",
    "\n",
    "export_data_to_postgres(df_cleaned, table_name, engine)\n",
    "logger.info(f\"Data exported successfully to table '{table_name}'!\")"
   ]
  }
 ],
 "metadata": {
  "kernelspec": {
   "display_name": "venv",
   "language": "python",
   "name": "python3"
  },
  "language_info": {
   "codemirror_mode": {
    "name": "ipython",
    "version": 3
   },
   "file_extension": ".py",
   "mimetype": "text/x-python",
   "name": "python",
   "nbconvert_exporter": "python",
   "pygments_lexer": "ipython3",
   "version": "3.10.12"
  }
 },
 "nbformat": 4,
 "nbformat_minor": 2
}
